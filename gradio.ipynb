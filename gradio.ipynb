{
 "cells": [
  {
   "cell_type": "code",
   "execution_count": 1,
   "id": "d3c5e23e-b104-438e-8f1a-b13c2ca15042",
   "metadata": {
    "scrolled": true
   },
   "outputs": [
    {
     "name": "stdout",
     "output_type": "stream",
     "text": [
      "Running on local URL:  http://127.0.0.1:7861\n",
      "Running on public URL: https://5887e470abb7661d9c.gradio.live\n",
      "\n",
      "This share link expires in 72 hours. For free permanent hosting and GPU upgrades, run `gradio deploy` from Terminal to deploy to Spaces (https://huggingface.co/spaces)\n"
     ]
    },
    {
     "data": {
      "text/html": [
       "<div><iframe src=\"https://5887e470abb7661d9c.gradio.live\" width=\"100%\" height=\"500\" allow=\"autoplay; camera; microphone; clipboard-read; clipboard-write;\" frameborder=\"0\" allowfullscreen></iframe></div>"
      ],
      "text/plain": [
       "<IPython.core.display.HTML object>"
      ]
     },
     "metadata": {},
     "output_type": "display_data"
    }
   ],
   "source": [
    "import cv2\n",
    "import numpy as np\n",
    "import random\n",
    "import gradio as gr\n",
    "\n",
    "\n",
    "def select_seeds_from_blue_area(hsv_image, num_seeds=3):\n",
    "    \"\"\"\n",
    "    Selects seed points from the blue areas of an HSV image.\n",
    "    The function return a list of tuples representing the (x, y) coordinates of the seeds.\n",
    "    \"\"\"\n",
    "    # Determine the upper third of the image to focus seed selection\n",
    "    height, width, _ = hsv_image.shape\n",
    "    upper_third_height = height // 3\n",
    "\n",
    "    # Define the HSV range for sky colors\n",
    "    lower_blue = np.array([90, 10, 10])\n",
    "    upper_blue = np.array([125, 255, 255])\n",
    "\n",
    "    # Create a mask that identifies blue areas within the upper third of the image\n",
    "    blue_mask = cv2.inRange(hsv_image[:upper_third_height, :, :], lower_blue, upper_blue)\n",
    "\n",
    "    # Randomly selects seed points from the blue areas\n",
    "    y_indices, x_indices = np.where(blue_mask == 255)\n",
    "    seeds = []\n",
    "    if len(x_indices) > num_seeds:\n",
    "        chosen_indices = random.sample(range(len(x_indices)), num_seeds)\n",
    "        seeds = [(x_indices[i], y_indices[i]) for i in chosen_indices]\n",
    "\n",
    "    return seeds\n",
    "\n",
    "\n",
    "def region_growing(img, seeds, threshold=6):\n",
    "    \"\"\"\n",
    "    Applies the region growing algorithm to segment an image based on similarity.\n",
    "    The intensity difference threshold is set to 6.\n",
    "    Function returns a mask of the grown regions.\n",
    "    \"\"\"\n",
    "    # Initialize a mask to track the grown regions\n",
    "    h, w = img.shape[:2]\n",
    "    mask = np.zeros((h, w), dtype=np.uint8)\n",
    "\n",
    "    # Grow regions from each seed point\n",
    "    for seed in seeds:\n",
    "        x, y = seed\n",
    "        seed_list = [(x, y)]\n",
    "        while seed_list:\n",
    "            x, y = seed_list.pop(0)\n",
    "            if mask[y, x] == 0:\n",
    "                mask[y, x] = 255\n",
    "                # Check and add neighboring pixels based on the threshold\n",
    "                for nx, ny in [(x - 1, y), (x + 1, y), (x, y - 1), (x, y + 1)]:\n",
    "                    if 0 <= nx < w and 0 <= ny < h:\n",
    "                        if abs(int(img[ny, nx]) - int(img[y, x])) < threshold:\n",
    "                            seed_list.append((nx, ny))\n",
    "    return mask\n",
    "\n",
    "\n",
    "def image_preprocess(img):\n",
    "    \"\"\"\n",
    "    Preprocesses an image by resizing and denoising it.\n",
    "    \"\"\"\n",
    "    # Resize the image\n",
    "    ratio = img.shape[1] / img.shape[0]\n",
    "    width = int(ratio * 600)\n",
    "    img_resized = cv2.resize(img, (width, 600))\n",
    "\n",
    "    # Apply denoising\n",
    "    denoised_image = cv2.fastNlMeansDenoisingColored(img_resized, None, 5, 5, 9, 23)\n",
    "\n",
    "    return denoised_image\n",
    "def process_image(input_img):\n",
    "    img = np.array(input_img)\n",
    "    img = cv2.cvtColor(img, cv2.COLOR_RGB2BGR)\n",
    "\n",
    "    # Apply preprocessing steps\n",
    "    denoised_image = image_preprocess(img)\n",
    "    hsv_img = cv2.cvtColor(denoised_image, cv2.COLOR_BGR2HSV)\n",
    "    seeds = select_seeds_from_blue_area(hsv_img)\n",
    "    if seeds:\n",
    "        # Convert to grayscale and detect edges for region growing\n",
    "        img_gray = cv2.cvtColor(denoised_image, cv2.COLOR_BGR2GRAY)\n",
    "        sobelx = cv2.Sobel(img_gray, cv2.CV_64F, 1, 0, ksize=3)\n",
    "        sobely = cv2.Sobel(img_gray, cv2.CV_64F, 0, 1, ksize=3)\n",
    "        edges = cv2.magnitude(sobelx, sobely)\n",
    "\n",
    "        # Apply region growing and dilation\n",
    "        sky_mask = region_growing(edges, seeds)\n",
    "        kernel = np.ones((11, 11), np.uint8)\n",
    "        dilated_image = cv2.dilate(sky_mask, kernel, iterations=1)\n",
    "\n",
    "        # Mark sky regions in green\n",
    "        output_img = denoised_image.copy()\n",
    "        output_img[dilated_image == 255] = [0, 255, 0]\n",
    "    else:\n",
    "            print(\"No suitable seeds found.\")\n",
    "\n",
    "    # Convert back to RGB for displaying in Gradio\n",
    "    output_img_rgb = cv2.cvtColor(output_img, cv2.COLOR_BGR2RGB)\n",
    "    return  output_img_rgb\n",
    "\n",
    "# Define the Gradio interface\n",
    "gradio = gr.Interface(fn=process_image,\n",
    "                     inputs=gr.Image(),\n",
    "                     outputs=gr.Image(type=\"numpy\", label=\"Sky Detected\"),\n",
    "                     title=\"Sky Detection\",\n",
    "                     description=\"Upload an image to detect and highlight the sky.\")\n",
    "\n",
    "# Launch the Gradio app\n",
    "if __name__ == \"__main__\":\n",
    "    gradio.launch(share=True)\n"
   ]
  },
  {
   "cell_type": "code",
   "execution_count": null,
   "id": "289af335-0191-40d7-ac11-85f7186c4412",
   "metadata": {},
   "outputs": [],
   "source": []
  }
 ],
 "metadata": {
  "kernelspec": {
   "display_name": "Python 3 (ipykernel)",
   "language": "python",
   "name": "python3"
  },
  "language_info": {
   "codemirror_mode": {
    "name": "ipython",
    "version": 3
   },
   "file_extension": ".py",
   "mimetype": "text/x-python",
   "name": "python",
   "nbconvert_exporter": "python",
   "pygments_lexer": "ipython3",
   "version": "3.9.18"
  }
 },
 "nbformat": 4,
 "nbformat_minor": 5
}
